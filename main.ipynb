{
  "nbformat": 4,
  "nbformat_minor": 0,
  "metadata": {
    "colab": {
      "provenance": [],
      "include_colab_link": true
    },
    "kernelspec": {
      "name": "python3",
      "display_name": "Python 3"
    },
    "language_info": {
      "name": "python"
    },
    "accelerator": "GPU",
    "gpuClass": "standard"
  },
  "cells": [
    {
      "cell_type": "markdown",
      "metadata": {
        "id": "view-in-github",
        "colab_type": "text"
      },
      "source": [
        "<a href=\"https://colab.research.google.com/github/nathantthai/SFL-SDE/blob/main/main.ipynb\" target=\"_parent\"><img src=\"https://colab.research.google.com/assets/colab-badge.svg\" alt=\"Open In Colab\"/></a>"
      ]
    },
    {
      "cell_type": "code",
      "source": [
        "#!/usr/bin/env python3\n",
        "__author__ = \"Nathan Thai\"\n",
        "__email__ = \"nathantthai@gmail.com\"\n",
        "__phone__ = \"832-528-7224\""
      ],
      "metadata": {
        "id": "SEXQEeQCpcya"
      },
      "execution_count": null,
      "outputs": []
    },
    {
      "cell_type": "markdown",
      "source": [
        "# Section 1"
      ],
      "metadata": {
        "id": "2c1UFbHiwtNk"
      }
    },
    {
      "cell_type": "markdown",
      "source": [
        "---\n",
        "# Section 2\n",
        "###Database & Python ETL"
      ],
      "metadata": {
        "id": "ZduRUP8HlI0J"
      }
    },
    {
      "cell_type": "markdown",
      "source": [
        "Importing modules"
      ],
      "metadata": {
        "id": "SwEgFvmblaSn"
      }
    },
    {
      "cell_type": "code",
      "source": [
        "import pandas as pd\n",
        "import os\n",
        "!pip install pymongo\n",
        "import pymongo # often, this will need to be pip installed in, see line above\n",
        "from pymongo.mongo_client import MongoClient\n",
        "from pymongo.server_api import ServerApi\n",
        "\n"
      ],
      "metadata": {
        "id": "Li-4G8xLlfIz"
      },
      "execution_count": null,
      "outputs": []
    },
    {
      "cell_type": "markdown",
      "source": [
        "Setting up MongoDB with Python"
      ],
      "metadata": {
        "id": "xpIyhTrbmCqt"
      }
    },
    {
      "cell_type": "code",
      "source": [
        "# credential params to establish connection with MongoDB\n",
        "provided_URI = \"mongodb+srv://cluster0.rqb9xp1.mongodb.net/?authSource=%24external&authMechanism=MONGODB-X509&retryWrites=true&w=majority\"\n",
        "path_to_certificate = \"/content/X509-cert-359057758107592091.pem\"\n",
        "\n",
        "# Establishing a MongoClient Object, which is a MongoDB instance in the system\n",
        "client = MongoClient(provided_URI,\n",
        "                     tls=True,\n",
        "                     tlsCertificateKeyFile=path_to_certificate,\n",
        "                     server_api=ServerApi('1'))\n",
        "\n",
        "# Establishing a database within the instance\n",
        "database = client['SFL_SDE_evaluation_nathan']\n",
        "\n",
        "# Establishing a collection within the database\n",
        "collection = database['SRDataEngineerChallenge_DATASET']"
      ],
      "metadata": {
        "id": "EYuTyggFmWA3"
      },
      "execution_count": null,
      "outputs": []
    },
    {
      "cell_type": "markdown",
      "source": [
        "\n",
        "\n",
        "Reading in the csv with pandas\n",
        "\n",
        "\n"
      ],
      "metadata": {
        "id": "MIHdEz76lyKB"
      }
    },
    {
      "cell_type": "code",
      "source": [
        "#Enter CSV path\n",
        "csv_url = '/content/SRDataEngineerChallenge_DATASET.csv'\n",
        "\n",
        "#Using read_csv function from pandas to read in the csv\n",
        "df = pd.read_csv(csv_url)\n",
        "\n",
        "# a quick preview what the dataframe looks like\n",
        "df.head()\n"
      ],
      "metadata": {
        "id": "riw62ZrombtV"
      },
      "execution_count": null,
      "outputs": []
    },
    {
      "cell_type": "markdown",
      "source": [
        "Converting the dataframe into a list of dictionaries"
      ],
      "metadata": {
        "id": "XjqFiRHyKAJi"
      }
    },
    {
      "cell_type": "code",
      "source": [
        "# initializing column name as keys\n",
        "id = df.columns[0]\n",
        "first_name = df.columns[1]\n",
        "last_name = df.columns[2]\n",
        "email = df.columns[3]\n",
        "gender = df.columns[4]\n",
        "ip_address = df.columns[5]\n",
        "\n",
        "# initializing an empty list to append to\n",
        "df_in_listFormat = list()\n",
        "\n",
        "'''\n",
        "Nesting a dictionary into a list, \n",
        "e.g \n",
        "[{'id': 1, \n",
        "'first_name':'Margaretta', \n",
        "'last_name':'Laughtisse', \n",
        "'email':'mlaughtisse0@mediafire.com', \n",
        "'gender':'Genderfluid', \n",
        "'ip_address':'34.148.232.131'}]\n",
        "'''\n",
        "\n",
        "#itertuples is ~ 50x faster than iterrows() with 10 mil data points.\n",
        "\n",
        "for row in df.itertuples(index=False):\n",
        "  # creating a dictionary of key, value from column name, value\n",
        "  dictionary ={id: row.id, \n",
        "               first_name: row.first_name,\n",
        "               last_name: row.last_name,\n",
        "               email: row.email,\n",
        "               gender: row.gender,\n",
        "               ip_address: row.ip_address\n",
        "               }\n",
        "  \n",
        "  # appending it to the list\n",
        "  df_in_listFormat.append(dictionary)\n"
      ],
      "metadata": {
        "id": "7I68r5I_J9hs"
      },
      "execution_count": null,
      "outputs": []
    },
    {
      "cell_type": "markdown",
      "source": [
        "Inserting the list into the collection to the MongoDB"
      ],
      "metadata": {
        "id": "4CftlXPdXRiw"
      }
    },
    {
      "cell_type": "code",
      "source": [
        "collection.insert_many(df_in_listFormat)\n"
      ],
      "metadata": {
        "id": "POPLYZsTWHp1"
      },
      "execution_count": null,
      "outputs": []
    },
    {
      "cell_type": "markdown",
      "source": [
        "---\n",
        "# Section 3\n",
        "###ML API"
      ],
      "metadata": {
        "id": "Ffoeazr2CICa"
      }
    },
    {
      "cell_type": "markdown",
      "source": [
        "Importing modules, eg. Pytorch, Pytorchlightning and Mnist Data"
      ],
      "metadata": {
        "id": "ZP1Jt0L9rsFX"
      }
    },
    {
      "cell_type": "code",
      "source": [
        "\n",
        "!pip install lightning\n",
        "!pip install torch\n",
        "\n",
        "import lightning as L\n",
        "import torch as T\n",
        "import torch.nn.functional as F\n",
        "\n",
        "from torch import nn\n",
        "from torchmetrics.functional import accuracy\n",
        "from torch.utils.data import DataLoader, random_split\n",
        "from torchvision import transforms\n",
        "\n",
        "from torchvision.datasets import MNIST, FashionMNIST #Importing the MNIST Dataset from torchvision. It is a Hello-World dataset and any ML dataloader library should have them\n",
        "\n",
        "!pip install attrdict\n",
        "!pip install nvidia-pyindex\n",
        "!pip install tritonclient[all]\n",
        "\n",
        "import attrdict\n",
        "import tritonclient\n",
        "import numpy as np\n",
        "import tritonclient.http as httpclient\n",
        "from tritonclient.utils import triton_to_np_dtype\n",
        "\n",
        "# Global Var\n",
        "DATASET_PATH = os.environ.get(\"PATH_DATASETS\", \".\")\n",
        "INPUT_DIM = (1, 28, 28) # 28 by 28 grayscale input, 1 channel eg. (c, w, h)\n"
      ],
      "metadata": {
        "id": "46bYx3GCSyIQ",
        "colab": {
          "base_uri": "https://localhost:8080/"
        },
        "outputId": "150d07ff-3ecc-4595-9590-69dc28925637"
      },
      "execution_count": 18,
      "outputs": [
        {
          "output_type": "stream",
          "name": "stdout",
          "text": [
            "Looking in indexes: https://pypi.org/simple, https://us-python.pkg.dev/colab-wheels/public/simple/\n",
            "Requirement already satisfied: lightning in /usr/local/lib/python3.9/dist-packages (2.0.2)\n",
            "Requirement already satisfied: croniter<1.4.0,>=1.3.0 in /usr/local/lib/python3.9/dist-packages (from lightning) (1.3.14)\n",
            "Requirement already satisfied: lightning-utilities<2.0,>=0.7.0 in /usr/local/lib/python3.9/dist-packages (from lightning) (0.8.0)\n",
            "Requirement already satisfied: PyYAML<8.0,>=5.4 in /usr/local/lib/python3.9/dist-packages (from lightning) (6.0)\n",
            "Requirement already satisfied: click<10.0 in /usr/local/lib/python3.9/dist-packages (from lightning) (8.1.3)\n",
            "Requirement already satisfied: websocket-client<3.0 in /usr/local/lib/python3.9/dist-packages (from lightning) (1.5.1)\n",
            "Requirement already satisfied: dateutils<2.0 in /usr/local/lib/python3.9/dist-packages (from lightning) (0.6.12)\n",
            "Requirement already satisfied: tqdm<6.0,>=4.57.0 in /usr/local/lib/python3.9/dist-packages (from lightning) (4.65.0)\n",
            "Requirement already satisfied: traitlets<7.0,>=5.3.0 in /usr/local/lib/python3.9/dist-packages (from lightning) (5.7.1)\n",
            "Requirement already satisfied: Jinja2<5.0 in /usr/local/lib/python3.9/dist-packages (from lightning) (3.1.2)\n",
            "Requirement already satisfied: deepdiff<8.0,>=5.7.0 in /usr/local/lib/python3.9/dist-packages (from lightning) (6.3.0)\n",
            "Requirement already satisfied: pytorch-lightning in /usr/local/lib/python3.9/dist-packages (from lightning) (2.0.2)\n",
            "Requirement already satisfied: uvicorn<2.0 in /usr/local/lib/python3.9/dist-packages (from lightning) (0.21.1)\n",
            "Requirement already satisfied: pydantic<4.0,>=1.7.4 in /usr/local/lib/python3.9/dist-packages (from lightning) (1.10.7)\n",
            "Requirement already satisfied: arrow<3.0,>=1.2.0 in /usr/local/lib/python3.9/dist-packages (from lightning) (1.2.3)\n",
            "Requirement already satisfied: inquirer<5.0,>=2.10.0 in /usr/local/lib/python3.9/dist-packages (from lightning) (3.1.3)\n",
            "Requirement already satisfied: torch<4.0,>=1.11.0 in /usr/local/lib/python3.9/dist-packages (from lightning) (2.0.0+cu118)\n",
            "Requirement already satisfied: packaging in /usr/local/lib/python3.9/dist-packages (from lightning) (23.1)\n",
            "Requirement already satisfied: fastapi<0.89.0,>=0.69.0 in /usr/local/lib/python3.9/dist-packages (from lightning) (0.88.0)\n",
            "Requirement already satisfied: fsspec[http]<2025.0,>2021.06.0 in /usr/local/lib/python3.9/dist-packages (from lightning) (2023.4.0)\n",
            "Requirement already satisfied: lightning-cloud>=0.5.34 in /usr/local/lib/python3.9/dist-packages (from lightning) (0.5.34)\n",
            "Requirement already satisfied: starlette in /usr/local/lib/python3.9/dist-packages (from lightning) (0.22.0)\n",
            "Requirement already satisfied: beautifulsoup4<6.0,>=4.8.0 in /usr/local/lib/python3.9/dist-packages (from lightning) (4.11.2)\n",
            "Requirement already satisfied: urllib3<3.0 in /usr/local/lib/python3.9/dist-packages (from lightning) (1.26.15)\n",
            "Requirement already satisfied: psutil<7.0 in /usr/local/lib/python3.9/dist-packages (from lightning) (5.9.5)\n",
            "Requirement already satisfied: starsessions<2.0,>=1.2.1 in /usr/local/lib/python3.9/dist-packages (from lightning) (1.3.0)\n",
            "Requirement already satisfied: websockets<12.0 in /usr/local/lib/python3.9/dist-packages (from lightning) (11.0.2)\n",
            "Requirement already satisfied: requests<4.0 in /usr/local/lib/python3.9/dist-packages (from lightning) (2.27.1)\n",
            "Requirement already satisfied: rich<15.0,>=12.3.0 in /usr/local/lib/python3.9/dist-packages (from lightning) (13.3.4)\n",
            "Requirement already satisfied: torchmetrics<2.0,>=0.7.0 in /usr/local/lib/python3.9/dist-packages (from lightning) (0.11.4)\n",
            "Requirement already satisfied: typing-extensions<6.0,>=4.0.0 in /usr/local/lib/python3.9/dist-packages (from lightning) (4.5.0)\n",
            "Requirement already satisfied: numpy<3.0,>=1.17.2 in /usr/local/lib/python3.9/dist-packages (from lightning) (1.22.4)\n",
            "Requirement already satisfied: python-dateutil>=2.7.0 in /usr/local/lib/python3.9/dist-packages (from arrow<3.0,>=1.2.0->lightning) (2.8.2)\n",
            "Requirement already satisfied: soupsieve>1.2 in /usr/local/lib/python3.9/dist-packages (from beautifulsoup4<6.0,>=4.8.0->lightning) (2.4.1)\n",
            "Requirement already satisfied: pytz in /usr/local/lib/python3.9/dist-packages (from dateutils<2.0->lightning) (2022.7.1)\n",
            "Requirement already satisfied: ordered-set<4.2.0,>=4.0.2 in /usr/local/lib/python3.9/dist-packages (from deepdiff<8.0,>=5.7.0->lightning) (4.1.0)\n",
            "Requirement already satisfied: anyio<5,>=3.4.0 in /usr/local/lib/python3.9/dist-packages (from starlette->lightning) (3.6.2)\n",
            "Requirement already satisfied: aiohttp!=4.0.0a0,!=4.0.0a1 in /usr/local/lib/python3.9/dist-packages (from fsspec[http]<2025.0,>2021.06.0->lightning) (3.8.4)\n",
            "Requirement already satisfied: python-editor>=1.0.4 in /usr/local/lib/python3.9/dist-packages (from inquirer<5.0,>=2.10.0->lightning) (1.0.4)\n",
            "Requirement already satisfied: blessed>=1.19.0 in /usr/local/lib/python3.9/dist-packages (from inquirer<5.0,>=2.10.0->lightning) (1.20.0)\n",
            "Requirement already satisfied: readchar>=3.0.6 in /usr/local/lib/python3.9/dist-packages (from inquirer<5.0,>=2.10.0->lightning) (4.0.5)\n",
            "Requirement already satisfied: MarkupSafe>=2.0 in /usr/local/lib/python3.9/dist-packages (from Jinja2<5.0->lightning) (2.1.2)\n",
            "Requirement already satisfied: python-multipart in /usr/local/lib/python3.9/dist-packages (from lightning-cloud>=0.5.34->lightning) (0.0.6)\n",
            "Requirement already satisfied: pyjwt in /usr/local/lib/python3.9/dist-packages (from lightning-cloud>=0.5.34->lightning) (2.6.0)\n",
            "Requirement already satisfied: six in /usr/local/lib/python3.9/dist-packages (from lightning-cloud>=0.5.34->lightning) (1.16.0)\n",
            "Requirement already satisfied: charset-normalizer~=2.0.0 in /usr/local/lib/python3.9/dist-packages (from requests<4.0->lightning) (2.0.12)\n",
            "Requirement already satisfied: idna<4,>=2.5 in /usr/local/lib/python3.9/dist-packages (from requests<4.0->lightning) (3.4)\n",
            "Requirement already satisfied: certifi>=2017.4.17 in /usr/local/lib/python3.9/dist-packages (from requests<4.0->lightning) (2022.12.7)\n",
            "Requirement already satisfied: markdown-it-py<3.0.0,>=2.2.0 in /usr/local/lib/python3.9/dist-packages (from rich<15.0,>=12.3.0->lightning) (2.2.0)\n",
            "Requirement already satisfied: pygments<3.0.0,>=2.13.0 in /usr/local/lib/python3.9/dist-packages (from rich<15.0,>=12.3.0->lightning) (2.14.0)\n",
            "Requirement already satisfied: itsdangerous<3.0.0,>=2.0.1 in /usr/local/lib/python3.9/dist-packages (from starsessions<2.0,>=1.2.1->lightning) (2.1.2)\n",
            "Requirement already satisfied: networkx in /usr/local/lib/python3.9/dist-packages (from torch<4.0,>=1.11.0->lightning) (3.1)\n",
            "Requirement already satisfied: triton==2.0.0 in /usr/local/lib/python3.9/dist-packages (from torch<4.0,>=1.11.0->lightning) (2.0.0)\n",
            "Requirement already satisfied: filelock in /usr/local/lib/python3.9/dist-packages (from torch<4.0,>=1.11.0->lightning) (3.12.0)\n",
            "Requirement already satisfied: sympy in /usr/local/lib/python3.9/dist-packages (from torch<4.0,>=1.11.0->lightning) (1.11.1)\n",
            "Requirement already satisfied: cmake in /usr/local/lib/python3.9/dist-packages (from triton==2.0.0->torch<4.0,>=1.11.0->lightning) (3.25.2)\n",
            "Requirement already satisfied: lit in /usr/local/lib/python3.9/dist-packages (from triton==2.0.0->torch<4.0,>=1.11.0->lightning) (16.0.2)\n",
            "Requirement already satisfied: h11>=0.8 in /usr/local/lib/python3.9/dist-packages (from uvicorn<2.0->lightning) (0.14.0)\n",
            "Requirement already satisfied: aiosignal>=1.1.2 in /usr/local/lib/python3.9/dist-packages (from aiohttp!=4.0.0a0,!=4.0.0a1->fsspec[http]<2025.0,>2021.06.0->lightning) (1.3.1)\n",
            "Requirement already satisfied: yarl<2.0,>=1.0 in /usr/local/lib/python3.9/dist-packages (from aiohttp!=4.0.0a0,!=4.0.0a1->fsspec[http]<2025.0,>2021.06.0->lightning) (1.9.2)\n",
            "Requirement already satisfied: async-timeout<5.0,>=4.0.0a3 in /usr/local/lib/python3.9/dist-packages (from aiohttp!=4.0.0a0,!=4.0.0a1->fsspec[http]<2025.0,>2021.06.0->lightning) (4.0.2)\n",
            "Requirement already satisfied: multidict<7.0,>=4.5 in /usr/local/lib/python3.9/dist-packages (from aiohttp!=4.0.0a0,!=4.0.0a1->fsspec[http]<2025.0,>2021.06.0->lightning) (6.0.4)\n",
            "Requirement already satisfied: attrs>=17.3.0 in /usr/local/lib/python3.9/dist-packages (from aiohttp!=4.0.0a0,!=4.0.0a1->fsspec[http]<2025.0,>2021.06.0->lightning) (23.1.0)\n",
            "Requirement already satisfied: frozenlist>=1.1.1 in /usr/local/lib/python3.9/dist-packages (from aiohttp!=4.0.0a0,!=4.0.0a1->fsspec[http]<2025.0,>2021.06.0->lightning) (1.3.3)\n",
            "Requirement already satisfied: sniffio>=1.1 in /usr/local/lib/python3.9/dist-packages (from anyio<5,>=3.4.0->starlette->lightning) (1.3.0)\n",
            "Requirement already satisfied: wcwidth>=0.1.4 in /usr/local/lib/python3.9/dist-packages (from blessed>=1.19.0->inquirer<5.0,>=2.10.0->lightning) (0.2.6)\n",
            "Requirement already satisfied: mdurl~=0.1 in /usr/local/lib/python3.9/dist-packages (from markdown-it-py<3.0.0,>=2.2.0->rich<15.0,>=12.3.0->lightning) (0.1.2)\n",
            "Requirement already satisfied: setuptools>=41.0 in /usr/local/lib/python3.9/dist-packages (from readchar>=3.0.6->inquirer<5.0,>=2.10.0->lightning) (67.7.2)\n",
            "Requirement already satisfied: mpmath>=0.19 in /usr/local/lib/python3.9/dist-packages (from sympy->torch<4.0,>=1.11.0->lightning) (1.3.0)\n",
            "Looking in indexes: https://pypi.org/simple, https://us-python.pkg.dev/colab-wheels/public/simple/\n",
            "Requirement already satisfied: torch in /usr/local/lib/python3.9/dist-packages (2.0.0+cu118)\n",
            "Requirement already satisfied: sympy in /usr/local/lib/python3.9/dist-packages (from torch) (1.11.1)\n",
            "Requirement already satisfied: filelock in /usr/local/lib/python3.9/dist-packages (from torch) (3.12.0)\n",
            "Requirement already satisfied: typing-extensions in /usr/local/lib/python3.9/dist-packages (from torch) (4.5.0)\n",
            "Requirement already satisfied: triton==2.0.0 in /usr/local/lib/python3.9/dist-packages (from torch) (2.0.0)\n",
            "Requirement already satisfied: jinja2 in /usr/local/lib/python3.9/dist-packages (from torch) (3.1.2)\n",
            "Requirement already satisfied: networkx in /usr/local/lib/python3.9/dist-packages (from torch) (3.1)\n",
            "Requirement already satisfied: cmake in /usr/local/lib/python3.9/dist-packages (from triton==2.0.0->torch) (3.25.2)\n",
            "Requirement already satisfied: lit in /usr/local/lib/python3.9/dist-packages (from triton==2.0.0->torch) (16.0.2)\n",
            "Requirement already satisfied: MarkupSafe>=2.0 in /usr/local/lib/python3.9/dist-packages (from jinja2->torch) (2.1.2)\n",
            "Requirement already satisfied: mpmath>=0.19 in /usr/local/lib/python3.9/dist-packages (from sympy->torch) (1.3.0)\n",
            "Looking in indexes: https://pypi.org/simple, https://us-python.pkg.dev/colab-wheels/public/simple/\n",
            "Collecting attrdict\n",
            "  Downloading attrdict-2.0.1-py2.py3-none-any.whl (9.9 kB)\n",
            "Requirement already satisfied: six in /usr/local/lib/python3.9/dist-packages (from attrdict) (1.16.0)\n",
            "Installing collected packages: attrdict\n",
            "Successfully installed attrdict-2.0.1\n",
            "Looking in indexes: https://pypi.org/simple, https://us-python.pkg.dev/colab-wheels/public/simple/\n",
            "Collecting nvidia-pyindex\n",
            "  Downloading nvidia-pyindex-1.0.9.tar.gz (10 kB)\n",
            "  Preparing metadata (setup.py) ... \u001b[?25l\u001b[?25hdone\n",
            "Building wheels for collected packages: nvidia-pyindex\n",
            "  Building wheel for nvidia-pyindex (setup.py) ... \u001b[?25l\u001b[?25hdone\n",
            "  Created wheel for nvidia-pyindex: filename=nvidia_pyindex-1.0.9-py3-none-any.whl size=8418 sha256=917691c7d79be02a7b07355ce5f6e0c6471fd70a903ba28a6f86926531b7f82b\n",
            "  Stored in directory: /root/.cache/pip/wheels/39/63/71/c50214b560fa8c319598c2de3c1616f6d68e1d2c7f17a5e82d\n",
            "Successfully built nvidia-pyindex\n",
            "Installing collected packages: nvidia-pyindex\n",
            "Successfully installed nvidia-pyindex-1.0.9\n",
            "Looking in indexes: https://pypi.org/simple, https://us-python.pkg.dev/colab-wheels/public/simple/, https://pypi.ngc.nvidia.com\n",
            "Collecting tritonclient[all]\n",
            "  Downloading tritonclient-2.33.0-py3-none-manylinux1_x86_64.whl (11.8 MB)\n",
            "\u001b[2K     \u001b[90m━━━━━━━━━━━━━━━━━━━━━━━━━━━━━━━━━━━━━━━━\u001b[0m \u001b[32m11.8/11.8 MB\u001b[0m \u001b[31m76.6 MB/s\u001b[0m eta \u001b[36m0:00:00\u001b[0m\n",
            "\u001b[?25hRequirement already satisfied: numpy>=1.19.1 in /usr/local/lib/python3.9/dist-packages (from tritonclient[all]) (1.22.4)\n",
            "Collecting python-rapidjson>=0.9.1\n",
            "  Downloading python_rapidjson-1.10-cp39-cp39-manylinux_2_17_x86_64.manylinux2014_x86_64.whl (1.7 MB)\n",
            "\u001b[2K     \u001b[90m━━━━━━━━━━━━━━━━━━━━━━━━━━━━━━━━━━━━━━━━\u001b[0m \u001b[32m1.7/1.7 MB\u001b[0m \u001b[31m87.6 MB/s\u001b[0m eta \u001b[36m0:00:00\u001b[0m\n",
            "\u001b[?25hRequirement already satisfied: aiohttp>=3.8.1 in /usr/local/lib/python3.9/dist-packages (from tritonclient[all]) (3.8.4)\n",
            "Requirement already satisfied: packaging>=14.1 in /usr/local/lib/python3.9/dist-packages (from tritonclient[all]) (23.1)\n",
            "Requirement already satisfied: protobuf<4,>=3.5.0 in /usr/local/lib/python3.9/dist-packages (from tritonclient[all]) (3.20.3)\n",
            "Requirement already satisfied: grpcio>=1.41.0 in /usr/local/lib/python3.9/dist-packages (from tritonclient[all]) (1.54.0)\n",
            "Collecting geventhttpclient<=2.0.2,>=1.4.4\n",
            "  Downloading geventhttpclient-2.0.2-cp39-cp39-manylinux_2_5_x86_64.manylinux1_x86_64.manylinux_2_17_x86_64.manylinux2014_x86_64.whl (100 kB)\n",
            "\u001b[2K     \u001b[90m━━━━━━━━━━━━━━━━━━━━━━━━━━━━━━━━━━━━━━\u001b[0m \u001b[32m100.1/100.1 kB\u001b[0m \u001b[31m14.9 MB/s\u001b[0m eta \u001b[36m0:00:00\u001b[0m\n",
            "\u001b[?25hRequirement already satisfied: multidict<7.0,>=4.5 in /usr/local/lib/python3.9/dist-packages (from aiohttp>=3.8.1->tritonclient[all]) (6.0.4)\n",
            "Requirement already satisfied: yarl<2.0,>=1.0 in /usr/local/lib/python3.9/dist-packages (from aiohttp>=3.8.1->tritonclient[all]) (1.9.2)\n",
            "Requirement already satisfied: attrs>=17.3.0 in /usr/local/lib/python3.9/dist-packages (from aiohttp>=3.8.1->tritonclient[all]) (23.1.0)\n",
            "Requirement already satisfied: frozenlist>=1.1.1 in /usr/local/lib/python3.9/dist-packages (from aiohttp>=3.8.1->tritonclient[all]) (1.3.3)\n",
            "Requirement already satisfied: aiosignal>=1.1.2 in /usr/local/lib/python3.9/dist-packages (from aiohttp>=3.8.1->tritonclient[all]) (1.3.1)\n",
            "Requirement already satisfied: charset-normalizer<4.0,>=2.0 in /usr/local/lib/python3.9/dist-packages (from aiohttp>=3.8.1->tritonclient[all]) (2.0.12)\n",
            "Requirement already satisfied: async-timeout<5.0,>=4.0.0a3 in /usr/local/lib/python3.9/dist-packages (from aiohttp>=3.8.1->tritonclient[all]) (4.0.2)\n",
            "Requirement already satisfied: certifi in /usr/local/lib/python3.9/dist-packages (from geventhttpclient<=2.0.2,>=1.4.4->tritonclient[all]) (2022.12.7)\n",
            "Collecting brotli\n",
            "  Downloading Brotli-1.0.9-cp39-cp39-manylinux1_x86_64.whl (357 kB)\n",
            "\u001b[2K     \u001b[90m━━━━━━━━━━━━━━━━━━━━━━━━━━━━━━━━━━━━━━\u001b[0m \u001b[32m357.2/357.2 kB\u001b[0m \u001b[31m41.4 MB/s\u001b[0m eta \u001b[36m0:00:00\u001b[0m\n",
            "\u001b[?25hCollecting gevent>=0.13\n",
            "  Downloading gevent-22.10.2-cp39-cp39-manylinux_2_17_x86_64.manylinux2014_x86_64.whl (6.4 MB)\n",
            "\u001b[2K     \u001b[90m━━━━━━━━━━━━━━━━━━━━━━━━━━━━━━━━━━━━━━━━\u001b[0m \u001b[32m6.4/6.4 MB\u001b[0m \u001b[31m111.8 MB/s\u001b[0m eta \u001b[36m0:00:00\u001b[0m\n",
            "\u001b[?25hRequirement already satisfied: six in /usr/local/lib/python3.9/dist-packages (from geventhttpclient<=2.0.2,>=1.4.4->tritonclient[all]) (1.16.0)\n",
            "Collecting zope.event\n",
            "  Downloading zope.event-4.6-py2.py3-none-any.whl (6.8 kB)\n",
            "Requirement already satisfied: setuptools in /usr/local/lib/python3.9/dist-packages (from gevent>=0.13->geventhttpclient<=2.0.2,>=1.4.4->tritonclient[all]) (67.7.2)\n",
            "Collecting zope.interface\n",
            "  Downloading zope.interface-6.0-cp39-cp39-manylinux_2_5_x86_64.manylinux1_x86_64.manylinux_2_17_x86_64.manylinux2014_x86_64.whl (246 kB)\n",
            "\u001b[2K     \u001b[90m━━━━━━━━━━━━━━━━━━━━━━━━━━━━━━━━━━━━━━\u001b[0m \u001b[32m246.1/246.1 kB\u001b[0m \u001b[31m30.0 MB/s\u001b[0m eta \u001b[36m0:00:00\u001b[0m\n",
            "\u001b[?25hRequirement already satisfied: greenlet>=2.0.0 in /usr/local/lib/python3.9/dist-packages (from gevent>=0.13->geventhttpclient<=2.0.2,>=1.4.4->tritonclient[all]) (2.0.2)\n",
            "Requirement already satisfied: idna>=2.0 in /usr/local/lib/python3.9/dist-packages (from yarl<2.0,>=1.0->aiohttp>=3.8.1->tritonclient[all]) (3.4)\n",
            "Installing collected packages: brotli, zope.interface, zope.event, python-rapidjson, tritonclient, gevent, geventhttpclient\n",
            "Successfully installed brotli-1.0.9 gevent-22.10.2 geventhttpclient-2.0.2 python-rapidjson-1.10 tritonclient-2.33.0 zope.event-4.6 zope.interface-6.0\n"
          ]
        }
      ]
    },
    {
      "cell_type": "code",
      "source": [
        "class Model(L.LightningModule):\n",
        "    def __init__(self, channels, width, height, num_classes, hidden_size=64, learning_rate=2e-3):\n",
        "        super().__init__()\n",
        "\n",
        "        # Initializing params eg. input dimensions .. to build the model.\n",
        "        self.width = width\n",
        "        self.height = height\n",
        "        self.channels = channels\n",
        "        self.num_classes = num_classes\n",
        "        self.hidden_size = hidden_size\n",
        "        self.learning_rate = learning_rate\n",
        "\n",
        "        self.model = nn.Sequential(\n",
        "            nn.Flatten(),\n",
        "            nn.Linear(channels * width * height, hidden_size),\n",
        "            nn.ReLU(),\n",
        "            nn.Dropout(0.1),\n",
        "            nn.Linear(hidden_size, hidden_size),\n",
        "            nn.ReLU(),\n",
        "            nn.Dropout(0.1),\n",
        "            nn.Linear(hidden_size, num_classes),\n",
        "        )\n",
        "\n",
        "    def forward(self, x):\n",
        "        x = self.model(x)\n",
        "        return F.log_softmax(x, dim=1)\n",
        "\n",
        "    def training_step(self, batch):\n",
        "        x, y = batch\n",
        "        logits = self(x)\n",
        "        loss = F.nll_loss(logits, y)\n",
        "        return loss\n",
        "\n",
        "    def validation_step(self, batch, batch_idx):\n",
        "        x, y = batch\n",
        "        logits = self(x)\n",
        "        loss = F.nll_loss(logits, y)\n",
        "        preds = T.argmax(logits, dim=1)\n",
        "        acc = accuracy(preds, y, task=\"multiclass\", num_classes=10)\n",
        "        self.log(\"val_loss\", loss, prog_bar=True)\n",
        "        self.log(\"val_acc\", acc, prog_bar=True)\n",
        "\n",
        "    def configure_optimizers(self):\n",
        "        optimizer = T.optim.Adam(self.parameters(), lr=self.learning_rate)\n",
        "        return optimizer"
      ],
      "metadata": {
        "id": "AM9kJkr9s0ei"
      },
      "execution_count": null,
      "outputs": []
    },
    {
      "cell_type": "markdown",
      "source": [
        "Setting up the dataloader to feed into training"
      ],
      "metadata": {
        "id": "u8AVb0hsv_gu"
      }
    },
    {
      "cell_type": "code",
      "source": [
        "class MNISTModule(L.LightningDataModule):\n",
        "    def __init__(self, data_dir: str = DATASET_PATH):\n",
        "        super().__init__()\n",
        "        self.data_dir = data_dir\n",
        "        self.transform = transforms.Compose(\n",
        "            [\n",
        "                transforms.ToTensor(),\n",
        "                transforms.Normalize((0.1307,), (0.3081,)), # not sure about these params but Yann LeCun likes them.\n",
        "            ]\n",
        "        )\n",
        "\n",
        "        self.dims = INPUT_DIM \n",
        "        self.num_classes = 10 # 10 digits\n",
        "\n",
        "    def prepare_data(self):\n",
        "        # downloading and creating the proper directories to save them\n",
        "        MNIST(self.data_dir, train=True, download=True)\n",
        "        MNIST(self.data_dir, train=False, download=True)\n",
        "\n",
        "    def setup(self, stage=None):\n",
        "        # Assign training/validation datasets for use in dataloaders\n",
        "        if stage == \"fit\" or stage is None:\n",
        "            mnist_full = MNIST(self.data_dir, train=True, transform=self.transform)\n",
        "            self.mnist_train, self.mnist_val = random_split(mnist_full, [55000, 5000])\n",
        "\n",
        "        # Assign test dataset for use in dataloader(s)\n",
        "        if stage == \"test\" or stage is None:\n",
        "            self.mnist_test = MNIST(self.data_dir, train=False, transform=self.transform)\n",
        "\n",
        "    def train_dataloader(self):\n",
        "        return DataLoader(self.mnist_train, batch_size=64)\n",
        "\n",
        "    def val_dataloader(self):\n",
        "        return DataLoader(self.mnist_val, batch_size=64)\n",
        "\n",
        "    def test_dataloader(self):\n",
        "        return DataLoader(self.mnist_test, batch_size=64)"
      ],
      "metadata": {
        "id": "AuijD2nYv_SV"
      },
      "execution_count": null,
      "outputs": []
    },
    {
      "cell_type": "code",
      "source": [
        "# Initializing DataModule\n",
        "datamodule = MNISTModule()\n",
        "# Initializing Model from datamodule's attributes\n",
        "model = Model(*datamodule.dims, datamodule.num_classes)\n",
        "# Initializing the trainer\n",
        "trainer = L.Trainer(\n",
        "    max_epochs=1,\n",
        "    accelerator=\"auto\",\n",
        "    devices=\"auto\",\n",
        ")\n",
        "# fit DataModule to model\n",
        "trainer.fit(model, datamodule)"
      ],
      "metadata": {
        "id": "9bnPbnWFv6rF"
      },
      "execution_count": null,
      "outputs": []
    },
    {
      "cell_type": "markdown",
      "source": [
        "Tracing the checkpoint to torchscript file for deployment"
      ],
      "metadata": {
        "id": "r9PZB2fp2Pec"
      }
    },
    {
      "cell_type": "code",
      "source": [
        "saved_model = model.to_torchscript()\n",
        "T.jit.save(saved_model, '/content/model.pt')"
      ],
      "metadata": {
        "id": "gkGKkty_sH-W"
      },
      "execution_count": null,
      "outputs": []
    },
    {
      "cell_type": "code",
      "source": [
        "test_set =MNIST(root='./data', train=False, download=True, transform=None)"
      ],
      "metadata": {
        "id": "hVJvyKRHA9sP"
      },
      "execution_count": null,
      "outputs": []
    },
    {
      "cell_type": "markdown",
      "source": [
        "Setting up a NVIDIA Triton Inference Server inside a Docker Container on GCP.\n",
        "\n",
        "\n",
        "\n",
        "```\n",
        "# In Ubuntu 18.04, if Docker is not installed\n",
        "sudo snap install docker\n",
        "```\n",
        "\n",
        "```\n",
        "# Create the model repository, the latest version is 23.04 but 23.03 will do\n",
        "git clone -b r23.03 https://github.com/triton-inference-server/server.git\n",
        "\n",
        "```\n",
        "\n",
        "\n",
        "\n",
        "```\n",
        "# Setting up the deployment directory where we deploy model.pt\n",
        "\n",
        "model_repository\n",
        "|\n",
        "+-- mnist\n",
        "    |\n",
        "    +-- config.pbtxt\n",
        "    +-- 1\n",
        "        |\n",
        "        +-- model.pt\n",
        "```\n",
        "\n",
        "```\n",
        "#  config.pbtxt must be configured as following\n",
        "\n",
        "name: \"mnist\"\n",
        "platform: \"pytorch_libtorch\"\n",
        "max_batch_size : 0\n",
        "input [\n",
        "  {\n",
        "    name: \"input__0\"\n",
        "    data_type: TYPE_FP32\n",
        "    dims: [ 1, 28, 28, -1 ]\n",
        "  }\n",
        "]\n",
        "output [\n",
        "  {\n",
        "    name: \"output__0\"\n",
        "    data_type: TYPE_FP32\n",
        "    dims: [ 10, -1]\n",
        "  }\n",
        "]\n",
        "```\n",
        "\n",
        "```\n",
        "# Initiate a Triton Docker Container, with CPUs\n",
        "docker run --rm --net=host -v ${PWD}/model_repository:/models nvcr.io/nvidia/tritonserver:23.03-py3 tritonserver --model-repository=/models\n",
        "```\n",
        "\n",
        "\n",
        "\n",
        "\n",
        "\n"
      ],
      "metadata": {
        "id": "OzTJiBjutRB6"
      }
    },
    {
      "cell_type": "code",
      "source": [
        "from fastapi import FastAPI\n",
        "app = FastAPI()\n",
        "\n",
        "@app.post('/predict')\n",
        "def predict(test_set):\n",
        "  test_set\n"
      ],
      "metadata": {
        "id": "YikeRfYmMzgB"
      },
      "execution_count": null,
      "outputs": []
    },
    {
      "cell_type": "markdown",
      "source": [],
      "metadata": {
        "id": "jvskgRHmIRwY"
      }
    }
  ]
}